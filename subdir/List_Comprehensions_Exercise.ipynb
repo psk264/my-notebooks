{
  "nbformat": 4,
  "nbformat_minor": 0,
  "metadata": {
    "colab": {
      "name": "List Comprehensions Exercise",
      "provenance": [],
      "collapsed_sections": [],
      "include_colab_link": true
    },
    "kernelspec": {
      "name": "python3",
      "display_name": "Python 3"
    }
  },
  "cells": [
    {
      "cell_type": "markdown",
      "metadata": {
        "id": "view-in-github",
        "colab_type": "text"
      },
      "source": [
        "<a href=\"https://colab.research.google.com/github/psk264/my-notebooks/blob/main/subdir/List_Comprehensions_Exercise.ipynb\" target=\"_parent\"><img src=\"https://colab.research.google.com/assets/colab-badge.svg\" alt=\"Open In Colab\"/></a>"
      ]
    },
    {
      "cell_type": "markdown",
      "metadata": {
        "id": "wThIawpS0Jyf"
      },
      "source": [
        "# Instructions\n",
        "\n",
        "Make a copy of this notebook so you can edit and save your own version of it. Do the work in your copy of the notebook.\n"
      ]
    },
    {
      "cell_type": "markdown",
      "metadata": {
        "id": "CxPYjQK9pfEK"
      },
      "source": [
        "# Prerequisites\n",
        "\n",
        "  + [Lists](https://github.com/prof-rossetti/intro-to-python/blob/master/notes/python/datatypes/lists.md)\n",
        "  + [List Comprehensions](https://docs.python.org/3/tutorial/datastructures.html?#list-comprehensions)"
      ]
    },
    {
      "cell_type": "markdown",
      "metadata": {
        "id": "10mRJKXD0Res"
      },
      "source": [
        "# Challenges\n",
        "\n",
        "In the corresponding code cells below, use list comprehensions  to transform the provided list (i.e. `my_numbers`) in each of the following ways:\n",
        "\n",
        "  1. Use mapping capabilities to multiply each number by 100 (e.g. `[100, 200, 300, 400, 500, 600, 700]`)\n",
        "  2. Use filtering capabilities to return only the numbers greater than three (e.g. `[4, 5, 6, 7]`)\n",
        "  3. Use filtering capabilities to return only the numbers greater than eight (e.g. `[]`)\n",
        "  4. Use mapping and filtering capabilities to return only the numbers greater than three, each multiplied by 100 (e.g. `[400, 500, 600, 700]`)\n",
        "\n",
        "Example final output:\n",
        "\n",
        "```\n",
        "--------------\n",
        "ORIGINAL LIST: [1, 2, 3, 4, 5, 6, 7]\n",
        "--------------\n",
        "1) MAPPED LIST: [100, 200, 300, 400, 500, 600, 700]\n",
        "--------------\n",
        "2) FILTERED LIST W/ MATCHES: [4, 5, 6, 7]\n",
        "--------------\n",
        "3) FILTERED LIST W/O MATCHES: []\n",
        "--------------\n",
        "4) MAPPED AND FILTERED LIST: [400, 500, 600, 700]\n",
        "```\n",
        "\n",
        "Spoiler Alert: [List Comprehensions Exercise Solution](https://github.com/prof-rossetti/intro-to-python/blob/master/exercises/list-comprehensions/solutions.py)"
      ]
    },
    {
      "cell_type": "code",
      "metadata": {
        "id": "QRlNine90jDn",
        "colab": {
          "base_uri": "https://localhost:8080/"
        },
        "outputId": "4b8e0b60-7e15-4654-c4bc-a6c633117fae"
      },
      "source": [
        "# leave this cell as-is\n",
        "\n",
        "my_numbers = [1, 2, 3, 4, 5, 6, 7]\n",
        "\n",
        "print(\"--------------\")\n",
        "print(\"ORIGINAL LIST:\", my_numbers)\n"
      ],
      "execution_count": null,
      "outputs": [
        {
          "output_type": "stream",
          "text": [
            "--------------\n",
            "ORIGINAL LIST: [1, 2, 3, 4, 5, 6, 7]\n"
          ],
          "name": "stdout"
        }
      ]
    },
    {
      "cell_type": "code",
      "metadata": {
        "id": "OzIW7VKdlqRc",
        "colab": {
          "base_uri": "https://localhost:8080/"
        },
        "outputId": "ba8fc66b-81ba-48d9-e30b-f866c87d5d87"
      },
      "source": [
        "\n",
        "#\n",
        "# 1) Use mapping capabilities to multiply each number by 100 (i.e. [100, 200, 300, 400, 500, 600, 700])\n",
        "# \n",
        "print(my_numbers)\n",
        "# TODO: write python code here\n",
        "\n",
        "# APPROACH 1: \n",
        "# step 1: create a new empty list\n",
        "larger_numbers = []\n",
        "\n",
        "# step 2: loop through the original list\n",
        "# for loop construction:\n",
        "# for ____ in ____ :\n",
        "#   # do something with this item\n",
        "\n",
        "for n in my_numbers:\n",
        "# Step 3: append/assembe some transformed version of each item to the new list\n",
        "    larger_numbers.append(n*100)\n",
        "\n",
        "#print the new list\n",
        "print(larger_numbers)\n",
        "\n"
      ],
      "execution_count": null,
      "outputs": [
        {
          "output_type": "stream",
          "text": [
            "[1, 2, 3, 4, 5, 6, 7]\n",
            "[100, 200, 300, 400, 500, 600, 700]\n"
          ],
          "name": "stdout"
        }
      ]
    },
    {
      "cell_type": "code",
      "metadata": {
        "id": "vn31FbSl7cT7",
        "outputId": "de600e7b-0e15-4d95-d2bf-9fcabe959ea0",
        "colab": {
          "base_uri": "https://localhost:8080/"
        }
      },
      "source": [
        "#\n",
        "# 1) Use mapping capabilities to multiply each number by 100 (i.e. [100, 200, 300, 400, 500, 600, 700])\n",
        "# \n",
        "# APPROACH 2\n",
        "\n",
        "#print([____ for n in ___])\n",
        "print([n*100 for n in my_numbers])"
      ],
      "execution_count": 12,
      "outputs": [
        {
          "output_type": "stream",
          "text": [
            "[100, 200, 300, 400, 500, 600, 700]\n"
          ],
          "name": "stdout"
        }
      ]
    },
    {
      "cell_type": "code",
      "metadata": {
        "id": "NThBNlBfolYg",
        "colab": {
          "base_uri": "https://localhost:8080/"
        },
        "outputId": "941a0934-eb65-4dbf-d4e1-30bc661e33aa"
      },
      "source": [
        "\n",
        "# \n",
        "# 2) Use filtering capabilities to return only the numbers greater than three (i.e. [4, 5, 6, 7])\n",
        "# \n",
        "print(my_numbers)\n",
        "# TODO: write python code here\n",
        "\n",
        "# Approach 1: use a custom function in conjunction with filter() function\n",
        "\n",
        "# Approach 2: use conditional logic in conjunction with mapping operation\n",
        "some_numbers = []\n",
        "\n",
        "for n in my_numbers:\n",
        "  if n > 3 :\n",
        "    some_numbers.append(n)\n",
        "\n",
        "print(some_numbers)"
      ],
      "execution_count": null,
      "outputs": [
        {
          "output_type": "stream",
          "text": [
            "[1, 2, 3, 4, 5, 6, 7]\n",
            "[4, 5, 6, 7]\n"
          ],
          "name": "stdout"
        }
      ]
    },
    {
      "cell_type": "code",
      "metadata": {
        "id": "iljIPLCF71oM",
        "outputId": "1cb9eead-9f6a-46b9-aae1-902f714aaddf",
        "colab": {
          "base_uri": "https://localhost:8080/"
        }
      },
      "source": [
        "# \n",
        "# 2) Use filtering capabilities to return only the numbers greater than three (i.e. [4, 5, 6, 7])\n",
        "# \n",
        "# APPROACH 2\n",
        "\n",
        "#print([____ for n in ___ if ___])\n",
        "\n",
        "print([n for n in my_numbers if n>3])"
      ],
      "execution_count": 15,
      "outputs": [
        {
          "output_type": "stream",
          "text": [
            "[4, 5, 6, 7]\n"
          ],
          "name": "stdout"
        }
      ]
    },
    {
      "cell_type": "code",
      "metadata": {
        "id": "4sspG3HJouAB",
        "colab": {
          "base_uri": "https://localhost:8080/"
        },
        "outputId": "785e39c8-9e8e-4665-ebc6-a7c73c9fd105"
      },
      "source": [
        "\n",
        "#\n",
        "# 3) Use filtering capabilities to return only the numbers greater than eight (i.e. [] or empty list)\n",
        "#\n",
        "\n",
        "# TODO: write python code here\n",
        "\n",
        "numbers_greater_8 = []\n",
        "\n",
        "for n in my_numbers:\n",
        "  if(n>8):\n",
        "    some_numbers.append(n)\n",
        "\n",
        "print(some_numbers)"
      ],
      "execution_count": null,
      "outputs": [
        {
          "output_type": "stream",
          "text": [
            "[]\n"
          ],
          "name": "stdout"
        }
      ]
    },
    {
      "cell_type": "code",
      "metadata": {
        "id": "1g0bDhhmougK",
        "colab": {
          "base_uri": "https://localhost:8080/"
        },
        "outputId": "837eb378-1f2e-49d4-f79d-204cbef43107"
      },
      "source": [
        "#\n",
        "# 4) Use mapping and filtering capabilities to return only the numbers greater than three, each multiplied by 100 (i.e. [400, 500, 600, 700])\n",
        "# mapping means n*100\n",
        "# filtering means subset of list\n",
        "\n",
        "# TODO: write python code here\n",
        "\n",
        "print(my_numbers)\n",
        "\n",
        "mapped_numbers = []\n",
        "\n",
        "for n in my_numbers:\n",
        "  if(n>3):\n",
        "    mapped_numbers.append(n*100)\n",
        "print(mapped_numbers)\n",
        "  \n"
      ],
      "execution_count": 11,
      "outputs": [
        {
          "output_type": "stream",
          "text": [
            "[1, 2, 3, 4, 5, 6, 7]\n",
            "[400, 500, 600, 700]\n"
          ],
          "name": "stdout"
        }
      ]
    },
    {
      "cell_type": "code",
      "metadata": {
        "id": "MV0bezfk8mGU",
        "outputId": "5b9f7f29-5024-476a-9910-21b19c78c072",
        "colab": {
          "base_uri": "https://localhost:8080/"
        }
      },
      "source": [
        "# Using list comp technique\n",
        "print([n*100 for n in my_numbers if n>3]) \n",
        "#print([n*100 for n in my_numbers if n>3 and n<6])"
      ],
      "execution_count": 18,
      "outputs": [
        {
          "output_type": "stream",
          "text": [
            "[400, 500, 600, 700]\n"
          ],
          "name": "stdout"
        }
      ]
    }
  ]
}