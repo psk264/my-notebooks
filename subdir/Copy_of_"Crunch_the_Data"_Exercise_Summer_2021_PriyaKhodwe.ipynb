{
  "nbformat": 4,
  "nbformat_minor": 0,
  "metadata": {
    "colab": {
      "name": "Copy of \"Crunch the Data\" Exercise - Summer 2021 - PriyaKhodwe",
      "provenance": [],
      "collapsed_sections": [
        "frq5vQMsHOS1",
        "HB0pW8ZCHIA_",
        "VtujEF_N2LHi"
      ],
      "include_colab_link": true
    },
    "kernelspec": {
      "name": "python3",
      "display_name": "Python 3"
    }
  },
  "cells": [
    {
      "cell_type": "markdown",
      "metadata": {
        "id": "view-in-github",
        "colab_type": "text"
      },
      "source": [
        "<a href=\"https://colab.research.google.com/github/psk264/my-notebooks/blob/main/subdir/Copy_of_%22Crunch_the_Data%22_Exercise_Summer_2021_PriyaKhodwe.ipynb\" target=\"_parent\"><img src=\"https://colab.research.google.com/assets/colab-badge.svg\" alt=\"Open In Colab\"/></a>"
      ]
    },
    {
      "cell_type": "markdown",
      "metadata": {
        "id": "Ay0cqN_Loiww"
      },
      "source": [
        "# Instructions\n",
        "\n",
        "\n",
        "Make a copy of this notebook so you can edit and save your own version of it. Do the work in your copy of the notebook. Sometime before submitting, remember to edit the sharing settings, and share your notebook either publicly or with prof.mj.rossetti@gmail.com. Notebooks not shared properly may be subject to late deductions if the professor is unable to access them at the time of grading.\n",
        "\n",
        "Each of the exercises below contains a provided data structure in a setup cell, as well as some questions relating to the provided data structure. For each exercise, run its setup cell to define the provided variable, then write additional code cells below which reference that variable to answer the provided questions.\n",
        "\n",
        "If you can't get any one of the individual questions, feel free to skip it for now, and do as many of the easy questions as possible first, then come back to the harder ones later. \n",
        "\n",
        "# Collaboration\n",
        "\n",
        "It is OK to discuss this exercise generally with other students, to work together, and even to share some small code snippets! \n",
        "\n",
        "NOTE: if you receive any help from another student, you are expected to provide appropriate attribution in a corresponding text cell or code comment, like \"Student X helped me with this part\", or \"Student Y and I worked on this part together\".\n",
        "\n",
        "# Evaluation\n",
        "\n",
        "Exercise submissions will be evaluated according to the rubric below:\n",
        "\n",
        "Question | Weight\n",
        "-- | --\n",
        "Exercise 1 | 25% \n",
        "Exercise 2 | 25% \n",
        "Exercise 3 | 25% \n",
        "Exercise 4 | 25% \n",
        "\n",
        "This rubric is tentative, and may be subject to slight adjustments during the grading process.\n",
        "\n"
      ]
    },
    {
      "cell_type": "markdown",
      "metadata": {
        "id": "-KpOcL7dRi0y"
      },
      "source": [
        "# Exercises\n"
      ]
    },
    {
      "cell_type": "markdown",
      "metadata": {
        "id": "jkFPIYgmG6ag"
      },
      "source": [
        "## Exercise 1 (Gradebook Data)\n"
      ]
    },
    {
      "cell_type": "markdown",
      "metadata": {
        "id": "S-JKOpkHSpfB"
      },
      "source": [
        "\n",
        "Given the Python variable called `gradebook` provided below, write Python code which references that variable to perform each of the following tasks...\n",
        "\n",
        "A) Print the date this data was downloaded (i.e. `\"2018-06-05\"`).\n",
        "\n",
        "B) Print the number of students in the gradebook (i.e. `10`).\n",
        "\n",
        "C) Loop through each student and print their grade, each on a new line.\n",
        "\n",
        "D) Print the average grade (i.e. `83.64`). \n",
        "\n",
        "E) Print the median grade (i.e. `87.6`). HINT: it might be helpful to leverage [the `statistics` module](https://github.com/prof-rossetti/intro-to-python/blob/master/notes/python/modules/statistics.md) or some other third-party package\n",
        "\n"
      ]
    },
    {
      "cell_type": "code",
      "metadata": {
        "id": "7mLcsfnESwG1"
      },
      "source": [
        "# leave this cell as-is\n",
        "gradebook = {\n",
        "  \"downloadDate\": \"2018-06-05\",\n",
        "  \"professorId\": 123,\n",
        "  \"students\":[\n",
        "    {\"studentId\": 1, \"finalGrade\": 76.7},\n",
        "    {\"studentId\": 2, \"finalGrade\": 85.1},\n",
        "    {\"studentId\": 3, \"finalGrade\": 50.3},\n",
        "    {\"studentId\": 4, \"finalGrade\": 89.8},\n",
        "    {\"studentId\": 5, \"finalGrade\": 97.4},\n",
        "    {\"studentId\": 6, \"finalGrade\": 75.5},\n",
        "    {\"studentId\": 7, \"finalGrade\": 87.2},\n",
        "    {\"studentId\": 8, \"finalGrade\": 88.0},\n",
        "    {\"studentId\": 9, \"finalGrade\": 93.9},\n",
        "    {\"studentId\": 10, \"finalGrade\": 92.5}\n",
        "  ]\n",
        "}"
      ],
      "execution_count": 1,
      "outputs": []
    },
    {
      "cell_type": "code",
      "metadata": {
        "colab": {
          "base_uri": "https://localhost:8080/"
        },
        "id": "MCaUtr-QjxDB",
        "outputId": "53e0cba3-864c-49c9-b411-047217ab9b06"
      },
      "source": [
        "print(\"------------------\")\n",
        "print(\"PROCESSING GRADEBOOK DATA...\")\n",
        "print(\"------------------\")\n",
        "\n",
        "# todo: write some python here\n",
        "# answer 1a Print the date this data was downloaded:\n",
        "print(\"Solution to 1a\") \n",
        "print(gradebook[\"downloadDate\"])\n",
        "print(\"-------------\")\n",
        "\n",
        "# answer 1b Print the number of students in the gradebook:\n",
        "print(\"Solution to 1b\") \n",
        "print(len(gradebook[\"students\"]))\n",
        "print(\"-------------\")\n",
        "\n",
        "# answer 1c Loop through each student and print their grade, each on a new line.:\n",
        "print(\"Solution to 1c\") \n",
        "for s in gradebook[\"students\"]:\n",
        "  print(s[\"finalGrade\"])\n",
        "print(\"-------------\")\n",
        "\n",
        "# Code generated from group collaboration with Snow, Tammana, Nate O.\n",
        "# answer 1d Print the average grade:\n",
        "import statistics\n",
        "print(\"Solution to 1d\") \n",
        "final_grade_s = []\n",
        "for s in gradebook[\"students\"]:\n",
        "  final_grade_s.append(s[\"finalGrade\"])\n",
        "print(\"Temp list for grades:\", final_grade_s)\n",
        "print(statistics.mean(final_grade_s))\n",
        "print(\"-------------\")\n",
        "\n",
        "# answer 1e Print the median grade (i.e. 87.6). HINT: it might be helpful to leverage the statistics module or some other third-party package:\n",
        "print(\"Solution to 1e\") \n",
        "print(statistics.median(final_grade_s))\n",
        "print(\"-------------\")\n"
      ],
      "execution_count": 14,
      "outputs": [
        {
          "output_type": "stream",
          "text": [
            "------------------\n",
            "PROCESSING GRADEBOOK DATA...\n",
            "------------------\n",
            "Solution to 1a\n",
            "2018-06-05\n",
            "-------------\n",
            "Solution to 1b\n",
            "10\n",
            "-------------\n",
            "Solution to 1c\n",
            "76.7\n",
            "85.1\n",
            "50.3\n",
            "89.8\n",
            "97.4\n",
            "75.5\n",
            "87.2\n",
            "88.0\n",
            "93.9\n",
            "92.5\n",
            "-------------\n",
            "Solution to 1d\n",
            "Temp list for grades: [76.7, 85.1, 50.3, 89.8, 97.4, 75.5, 87.2, 88.0, 93.9, 92.5]\n",
            "83.64\n",
            "-------------\n",
            "Solution to 1e\n",
            "87.6\n",
            "-------------\n"
          ],
          "name": "stdout"
        }
      ]
    },
    {
      "cell_type": "markdown",
      "metadata": {
        "id": "H6vAJbNjG_US"
      },
      "source": [
        "## Exercise 2 (Rideshare Data)\n"
      ]
    },
    {
      "cell_type": "markdown",
      "metadata": {
        "id": "-uRFHQMYRkpb"
      },
      "source": [
        "\n",
        "\n",
        "Given the Python variable called `trip` provided below, write Python code which references that variable to perform each of the following tasks...\n",
        "\n",
        "A) Print a human-friendly message to denote the driver’s first name (i.e. `“Your driver is Danny\"`).\n",
        "\n",
        "B) Assuming stops can get added or removed at any time, print the number of stops this trip makes (i.e. `3`).\n",
        "\n",
        "C) Assuming the stops will always be listed in ascending order of their stop sequence, and there will always be at least one stop, print the destination of the FIRST stop (i.e. `Madison Square”`).\n",
        "\n",
        "D) Assuming the stops will always be listed in ascending order of their stop sequence, and there will always be at least one stop, but the number of stops may change at any time, print the destination of the LAST stop (i.e. `“Washington Square”`).\n",
        "\n",
        "E) Loop through each of the trip’s stops and print that stop’s passenger name, one at a time (i.e. `“Vishal”`, then `“Clara”`, then `“Lee”`, each on a separate line):\n",
        "\n"
      ]
    },
    {
      "cell_type": "code",
      "metadata": {
        "id": "MSyUjpWA-11o"
      },
      "source": [
        "# leave this cell as-is\n",
        "trip = {\n",
        "    \"driver\": {\n",
        "        \"first_name\": \"Danny\",\n",
        "        \"last_name\": \"Dreyfus\",\n",
        "        \"avg_rating\": 3.6,\n",
        "        \"total_rides\": 950\n",
        "    },\n",
        "    \"vehicle\": {\n",
        "        \"make\": \"Tesla\",\n",
        "        \"model\": \"Cybertruck\",\n",
        "        \"year\": 2021,\n",
        "        \"color\": \"silver\"\n",
        "    },\n",
        "    \"rideshare\": True,\n",
        "    \"pickup_location\": \"Grand Central Terminal\",\n",
        "    \"stops\": [\n",
        "        {\"sequence\": 1, \"passenger\": \"Vishal\", \"destination\": \"Madison Square\", \"fare\": 3.99},\n",
        "        {\"sequence\": 2, \"passenger\": \"Clara\", \"destination\": \"Union Square\", \"fare\": 5.99},\n",
        "        {\"sequence\": 3, \"passenger\": \"Lee\", \"destination\": \"Washington Square\", \"fare\": 7.99}\n",
        "    ]\n",
        "}\n",
        "\n"
      ],
      "execution_count": 15,
      "outputs": []
    },
    {
      "cell_type": "code",
      "metadata": {
        "colab": {
          "base_uri": "https://localhost:8080/"
        },
        "id": "2H5Id5qTj9zM",
        "outputId": "ba2f257b-07be-4378-a46e-2e6884032d69"
      },
      "source": [
        "\n",
        "print(\"------------------\")\n",
        "print(\"PROCESSING RIDESHARE DATA...\")\n",
        "print(\"------------------\")\n",
        "\n",
        "# todo: write some python here\n",
        "# answer 2a Print a human-friendly message to denote the driver’s first name\n",
        "print(\"Solution to 2a\") \n",
        "print(\"Your drive is\", trip[\"driver\"][\"first_name\"])\n",
        "print(\"-------------\")\n",
        "\n",
        "# answer 2b Assuming stops can get added or removed at any time, print the number of stops this trip makes\n",
        "print(\"Solution to 2b\") \n",
        "print(\"Number of stops:\", len(trip[\"stops\"]))\n",
        "print(\"-------------\")\n",
        "\n",
        "# answer 2c\n",
        "print(\"Solution to 2c\") \n",
        "print(\"First stop:\", trip[\"stops\"][0][\"destination\"])\n",
        "print(\"-------------\")\n",
        "\n",
        "# answer 2d\n",
        "print(\"Solution to 2d\") \n",
        "stops_count = len(trip[\"stops\"])\n",
        "#last_stop = trip[\"stops\"][stops_count-1][\"destination\"]\n",
        "last_stop = trip[\"stops\"][-1][\"destination\"]\n",
        "print(\"Last stop:\", last_stop)\n",
        "print(\"-------------\")\n",
        "\n",
        "#answer 2e\n",
        "print(\"Solution to 2e\") \n",
        "# for stop in trip[\"stops\"]:\n",
        "#   print(stop[\"passenger\"])\n",
        "\n",
        "passengers = [stop[\"passenger\"] for stop in trip[\"stops\"]]\n",
        "for i in passengers:\n",
        "  print(i)\n",
        "print(\"-------------\")"
      ],
      "execution_count": 29,
      "outputs": [
        {
          "output_type": "stream",
          "text": [
            "------------------\n",
            "PROCESSING RIDESHARE DATA...\n",
            "------------------\n",
            "Solution to 2a\n",
            "Your drive is Danny\n",
            "-------------\n",
            "Solution to 2b\n",
            "Number of stops: 3\n",
            "-------------\n",
            "Solution to 2c\n",
            "First stop: Madison Square\n",
            "-------------\n",
            "Solution to 2d\n",
            "Last stop: Washington Square\n",
            "-------------\n",
            "Solution to 2e\n",
            "Vishal\n",
            "Clara\n",
            "Lee\n",
            "-------------\n"
          ],
          "name": "stdout"
        }
      ]
    },
    {
      "cell_type": "markdown",
      "metadata": {
        "id": "frq5vQMsHOS1"
      },
      "source": [
        "## Exercise 3 (Social Data)\n"
      ]
    },
    {
      "cell_type": "markdown",
      "metadata": {
        "id": "qHWXSX8iRkBU"
      },
      "source": [
        "\n",
        "Given the Python variable called `tweets` provided below, write Python code which references that variable to perform each of the following tasks...\n",
        "\n",
        "A) Print the screen name of the user who authored the first tweet (i.e. `“sandwhoa”`).\n",
        "\n",
        "\n",
        "B) Of all the tweets which include the phrase `“@sandwhoa”` in their full text, print the screen name of the user who authored that tweet, each on a separate line (i.e. `“person2”`, then `“person3”`).\n",
        "\n",
        "C) Of all the tweets which include the phrase `“@sandwhoa”` in their full text, determine which tweet has the greatest number of likes, and then print the screen name of the user who authored that tweet (i.e. `“person3”`). FYI: Assume the tweet order can change at any time and has no relationship with the number of likes.\n"
      ]
    },
    {
      "cell_type": "code",
      "metadata": {
        "id": "nY7zZDCm-8OD"
      },
      "source": [
        "# leave this cell as-is\n",
        "tweets = [\n",
        "    {\n",
        "        \"id\": 100200297,\n",
        "        \"full_text\": \"Look at this delicious sandwich!\",\n",
        "        \"img_url\": \"https://sandwhoa.com/sandwich.png\",\n",
        "        \"user\": {\"screen_name\": \"sandwhoa\", \"followers\": 5000},\n",
        "        \"likes_count\": 150\n",
        "    },\n",
        "    {\n",
        "        \"id\": 100200298,\n",
        "        \"full_text\": \"I love sandwiches\",\n",
        "        \"img_url\": None,\n",
        "        \"user\": {\"screen_name\": \"person1\", \"followers\": 100},\n",
        "        \"likes_count\": 5\n",
        "    },\n",
        "    {\n",
        "        \"id\": 100200299,\n",
        "        \"full_text\": \"@sandwhoa yumm...\",\n",
        "        \"img_url\": None,\n",
        "        \"user\": {\"screen_name\": \"person2\", \"followers\": 200},\n",
        "        \"likes_count\": 10\n",
        "    },\n",
        "    {\n",
        "        \"id\": 100200300,\n",
        "        \"full_text\": \"@sandwhoa that sandwich looks amazing!!\",\n",
        "        \"img_url\": None,\n",
        "        \"user\": {\"screen_name\": \"person3\", \"followers\": 300},\n",
        "        \"likes_count\": 35\n",
        "    },\n",
        "    {\n",
        "        \"id\": 100200301,\n",
        "        \"full_text\": \"I ate a great sandwich today\",\n",
        "        \"img_url\": None,\n",
        "        \"user\": {\"screen_name\": \"person4\", \"followers\": 400},\n",
        "        \"likes_count\": 50\n",
        "    }\n",
        "]\n"
      ],
      "execution_count": null,
      "outputs": []
    },
    {
      "cell_type": "code",
      "metadata": {
        "colab": {
          "base_uri": "https://localhost:8080/"
        },
        "id": "hsy4ZFCRj_ce",
        "outputId": "5e77c5db-dac8-4c04-b14c-a601bb4c936b"
      },
      "source": [
        "\n",
        "print(\"------------------\")\n",
        "print(\"PROCESSING SOCIAL MEDIA DATA...\")\n",
        "print(\"------------------\")\n",
        "\n",
        "# todo: write some python here\n",
        "\n",
        "\n",
        "\n"
      ],
      "execution_count": null,
      "outputs": [
        {
          "output_type": "stream",
          "text": [
            "------------------\n",
            "PROCESSING SOCIAL MEDIA DATA...\n",
            "------------------\n"
          ],
          "name": "stdout"
        }
      ]
    },
    {
      "cell_type": "markdown",
      "metadata": {
        "id": "HB0pW8ZCHIA_"
      },
      "source": [
        "## Exercise 4 (Stock Data)\n"
      ]
    },
    {
      "cell_type": "markdown",
      "metadata": {
        "id": "NzcqJVRLFeDo"
      },
      "source": [
        "\n",
        "Given the Python variable called `stock_data` provided below, write Python code which references that variable to perform each of the following tasks...\n",
        "\n",
        "A) Print the **selected stock symbol** (e.g. `\"MSFT\"`). \n",
        "\n",
        "B) Assuming new days will be added to the time series in the future, print the **latest available day** (e.g. `\"2030-03-16\"`). HINT: you may want to access the time series dictionary's `.items()` method to convert key-value pairs into a list for easier processing. HINT: you may want to convert the data into a new, cleaner list of daily dictionaries, for easier processing.\n",
        "\n",
        "C) Assuming new days will be added to the time series in the future, print the stock's **latest closing price**, ideally formatted as USD with dollar sign and two decimal places (e.g. `\"$237.71\"`) HINT: it's OK to use our familiar `to_usd()` function, provided in the setup cell below.\n",
        "\n",
        "D) Assemble and print a new **list of closing prices**, with the prices listed in ASCENDING order of their date, and formatted as decimal numbers (e.g. `[232.42, 237.13, 235.75, 234.81, 237.71]` ). HINT: try using the built-in `float()` function to convert strings to decimals. \n"
      ]
    },
    {
      "cell_type": "code",
      "metadata": {
        "id": "h0e6PrQ0FdMM"
      },
      "source": [
        "# leave this cell as-is\n",
        "stock_data = {\n",
        "    \"Meta Data\": {\n",
        "        \"1. Information\": \"Daily Prices (open, high, low, close) and Volumes\",\n",
        "        \"2. Symbol\": \"MSFT\",\n",
        "        \"3. Output Size\": \"Compact\",\n",
        "        \"4. Time Zone\": \"US/Eastern\"\n",
        "    },\n",
        "    \"Time Series (Daily)\": {\n",
        "        \"2030-03-16\": {\n",
        "            \"1. open\": \"236.2800\",\n",
        "            \"2. high\": \"240.0550\",\n",
        "            \"3. low\": \"235.9400\",\n",
        "            \"4. close\": \"237.7100\",\n",
        "            \"5. volume\": \"28092196\"\n",
        "        },\n",
        "        \"2030-03-15\": {\n",
        "            \"1. open\": \"234.9600\",\n",
        "            \"2. high\": \"235.1850\",\n",
        "            \"3. low\": \"231.8100\",\n",
        "            \"4. close\": \"234.8100\",\n",
        "            \"5. volume\": \"26042669\"\n",
        "        },\n",
        "        \"2030-03-12\": {\n",
        "            \"1. open\": \"234.0100\",\n",
        "            \"2. high\": \"235.8200\",\n",
        "            \"3. low\": \"233.2300\",\n",
        "            \"4. close\": \"235.7500\",\n",
        "            \"5. volume\": \"22653662\"\n",
        "        },\n",
        "        \"2030-03-11\": {\n",
        "            \"1. open\": \"234.9600\",\n",
        "            \"2. high\": \"239.1700\",\n",
        "            \"3. low\": \"234.3100\",\n",
        "            \"4. close\": \"237.1300\",\n",
        "            \"5. volume\": \"29907586\"\n",
        "        },\n",
        "        \"2030-03-10\": {\n",
        "            \"1. open\": \"237.0000\",\n",
        "            \"2. high\": \"237.0000\",\n",
        "            \"3. low\": \"232.0400\",\n",
        "            \"4. close\": \"232.4200\",\n",
        "            \"5. volume\": \"29746812\"\n",
        "        }\n",
        "    }\n",
        "}\n",
        "\n",
        "\n",
        "def to_usd(my_price):\n",
        "    \"\"\"\n",
        "    Converts a numeric value to usd-formatted string, for printing and display purposes.\n",
        "    \n",
        "    Param: my_price (int or float) like 4000.444444\n",
        "    \n",
        "    Example: to_usd(4000.444444)\n",
        "    \n",
        "    Returns: $4,000.44\n",
        "    \"\"\"\n",
        "    return f\"${my_price:,.2f}\" \n",
        "\n"
      ],
      "execution_count": null,
      "outputs": []
    },
    {
      "cell_type": "code",
      "metadata": {
        "colab": {
          "base_uri": "https://localhost:8080/"
        },
        "id": "5263dWmoG0bv",
        "outputId": "e69b9795-e76e-44c5-a03b-7dbaf6148318"
      },
      "source": [
        "print(\"------------------\")\n",
        "print(\"PROCESSING STOCK DATA...\")\n",
        "print(\"------------------\")\n",
        "\n",
        "# todo: write some python here\n",
        "\n",
        "\n"
      ],
      "execution_count": null,
      "outputs": [
        {
          "output_type": "stream",
          "text": [
            "------------------\n",
            "PROCESSING STOCK DATA...\n",
            "------------------\n"
          ],
          "name": "stdout"
        }
      ]
    },
    {
      "cell_type": "markdown",
      "metadata": {
        "id": "VtujEF_N2LHi"
      },
      "source": [
        "## Exercise 5 (SEC Filings)\n",
        "\n",
        "> NOTE: this is an **optional** challenge, for further exploration"
      ]
    },
    {
      "cell_type": "markdown",
      "metadata": {
        "id": "_Zgc7iWV2cne"
      },
      "source": [
        "Given the Python variable called `filings_index` provided below, write Python code which references that variable to perform the following task...\n",
        "\n",
        "A) Print the File name of the \"10-K\" form filed by \"AMAZON COM INC\" (e.g. `\"edgar/data/1018724/0001018724-19-000004.txt\"`).\n",
        "\n",
        "> HINT: convert this data into a more usable data structure, perhaps using the string's [`split()` method](https://docs.python.org/3/library/stdtypes.html#str.split) to convert a string to a list.\n",
        "\n",
        "> HINT: new line characters are represented by `\"/n\"`.\n"
      ]
    },
    {
      "cell_type": "code",
      "metadata": {
        "id": "8NhSNDAl2LZa"
      },
      "source": [
        "# leave this cell as-is\n",
        "\n",
        "filings_index = \"\"\"\n",
        "Description:           Master Index of EDGAR Dissemination Feed\n",
        "Last Data Received:    March 31, 2019\n",
        "Comments:              webmaster@sec.gov\n",
        "Anonymous FTP:         ftp://ftp.sec.gov/edgar/\n",
        "Cloud HTTP:            https://www.sec.gov/Archives/\n",
        "\n",
        "CIK|Company Name|Form Type|Date Filed|Filename\n",
        "--------------------------------------------------------------------------------\n",
        "1000045|NICHOLAS FINANCIAL INC|10-Q|2019-02-14|edgar/data/1000045/0001193125-19-039489.txt\n",
        "1000045|NICHOLAS FINANCIAL INC|4|2019-01-15|edgar/data/1000045/0001357521-19-000001.txt\n",
        "1000045|NICHOLAS FINANCIAL INC|4|2019-02-19|edgar/data/1000045/0001357521-19-000002.txt\n",
        "1000045|NICHOLAS FINANCIAL INC|4|2019-03-15|edgar/data/1000045/0001357521-19-000003.txt\n",
        "1000045|NICHOLAS FINANCIAL INC|8-K|2019-02-01|edgar/data/1000045/0001193125-19-024617.txt\n",
        "1000148|LEGACY CAPITAL FUND, INC.|X-17A-5|2019-02-21|edgar/data/1000148/9999999997-19-000997.txt\n",
        "1000177|NORDIC AMERICAN TANKERS Ltd|424B3|2019-03-29|edgar/data/1000177/0000919574-19-002650.txt\n",
        "1000177|NORDIC AMERICAN TANKERS Ltd|6-K|2019-02-12|edgar/data/1000177/0000919574-19-000990.txt\n",
        "1018724|AMAZON COM INC|10-K|2019-02-01|edgar/data/1018724/0001018724-19-000004.txt\n",
        "1018724|AMAZON COM INC|8-K|2019-01-31|edgar/data/1018724/0001018724-19-000002.txt\n",
        "1018724|AMAZON COM INC|8-K|2019-02-04|edgar/data/1018724/0001018724-19-000008.txt\n",
        "1018724|AMAZON COM INC|8-K|2019-02-25|edgar/data/1018724/0001193125-19-049914.txt\n",
        "101872|FIRST VARIABLE ANNUITY FUND A|24F-2NT|2019-03-25|edgar/data/101872/0000101872-19-000003.txt\n",
        "101872|FIRST VARIABLE ANNUITY FUND A|N-CEN|2019-03-11|edgar/data/101872/0001713935-19-000052.txt\n",
        "1018735|NYMOX PHARMACEUTICAL CORP|20-F|2019-03-29|edgar/data/1018735/0001640334-19-000464.txt\n",
        "1018735|NYMOX PHARMACEUTICAL CORP|4|2019-01-03|edgar/data/1018735/0001682873-19-000001.txt\n",
        "1018735|NYMOX PHARMACEUTICAL CORP|4|2019-01-03|edgar/data/1018735/0001682873-19-000002.txt\n",
        "1018825|IBM Retirement Fund|13F-HR|2019-02-14|edgar/data/1018825/0001018825-19-000001.txt\n",
        "1018840|ABERCROMBIE & FITCH CO /DE/|3|2019-02-06|edgar/data/1018840/0001225208-19-001840.txt\n",
        "1018840|ABERCROMBIE & FITCH CO /DE/|3|2019-02-06|edgar/data/1018840/0001225208-19-001841.txt\n",
        "1018840|ABERCROMBIE & FITCH CO /DE/|4|2019-02-06|edgar/data/1018840/0001225208-19-001842.txt\"\"\""
      ],
      "execution_count": null,
      "outputs": []
    },
    {
      "cell_type": "code",
      "metadata": {
        "id": "xzrW2M6W21Sa"
      },
      "source": [
        "print(\"------------------\")\n",
        "print(\"PROCESSING SEC FILINGS...\")\n",
        "print(\"------------------\")\n",
        "\n",
        "\n",
        "# todo: write some python here\n",
        "\n",
        "\n",
        "\n"
      ],
      "execution_count": null,
      "outputs": []
    }
  ]
}